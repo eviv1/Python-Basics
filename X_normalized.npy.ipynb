{
 "cells": [
  {
   "cell_type": "code",
   "execution_count": 1,
   "id": "81c52636",
   "metadata": {},
   "outputs": [
    {
     "name": "stdout",
     "output_type": "stream",
     "text": [
      "The random matrix we got is:\n",
      "[[0.72759219 0.09346696 0.68973777 0.12753943 0.10598246]\n",
      " [0.53236823 0.13877657 0.48339348 0.89698267 0.06099657]\n",
      " [0.61071509 0.40856389 0.97808966 0.30003065 0.19786854]\n",
      " [0.53688367 0.54761253 0.3318946  0.59245152 0.43213902]\n",
      " [0.60173442 0.02379713 0.49998561 0.71348627 0.33751456]]\n",
      "\n",
      "The normalized matrix:\n"
     ]
    },
    {
     "data": {
      "text/plain": [
       "array([[ 1.11740498, -1.3360401 ,  0.97094536, -1.20421294, -1.28761736],\n",
       "       [ 0.36207899, -1.16073618,  0.17259457,  1.77278067, -1.46166878],\n",
       "       [ 0.66520479, -0.11692286,  2.08658547, -0.53684044, -0.93210801],\n",
       "       [ 0.37954933,  0.42105956, -0.4135581 ,  0.59454264, -0.02571013],\n",
       "       [ 0.63045837, -1.60559428,  0.2367899 ,  1.06282888, -0.39181432]])"
      ]
     },
     "execution_count": 1,
     "metadata": {},
     "output_type": "execute_result"
    }
   ],
   "source": [
    "import numpy as np\n",
    "\n",
    "print(\"The random matrix we got is:\")\n",
    "X = np.random.random((5,5)) #random matrix\n",
    "print(X)\n",
    "\n",
    "#Since Z=(X-u)/SD\n",
    "u = X.mean() #mean\n",
    "SD = np.std(X) #standard deviation\n",
    "\n",
    "print(\"\\nThe normalized matrix:\")\n",
    "X_normalize = (X-u)/SD #normalized matrix\n",
    "\n",
    "np.save(\"X_normalized.npy\", X_normalize)\n",
    "np.load(\"X_normalized.npy\")"
   ]
  }
 ],
 "metadata": {
  "kernelspec": {
   "display_name": "Python 3 (ipykernel)",
   "language": "python",
   "name": "python3"
  },
  "language_info": {
   "codemirror_mode": {
    "name": "ipython",
    "version": 3
   },
   "file_extension": ".py",
   "mimetype": "text/x-python",
   "name": "python",
   "nbconvert_exporter": "python",
   "pygments_lexer": "ipython3",
   "version": "3.11.4"
  }
 },
 "nbformat": 4,
 "nbformat_minor": 5
}
