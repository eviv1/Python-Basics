{
 "cells": [
  {
   "cell_type": "code",
   "execution_count": 11,
   "id": "b189f8b5-2e47-4304-acff-390e06d5af91",
   "metadata": {
    "tags": []
   },
   "outputs": [
    {
     "name": "stdout",
     "output_type": "stream",
     "text": [
      "=== Welcome to AlphSoup - the Alphabetizer!===\n"
     ]
    },
    {
     "name": "stdin",
     "output_type": "stream",
     "text": [
      "Enter Word: hacker\n"
     ]
    },
    {
     "name": "stdout",
     "output_type": "stream",
     "text": [
      "\n",
      "Result\n",
      "acehkr\n"
     ]
    }
   ],
   "source": [
    "print(\"=== Welcome to AlphSoup - the Alphabetizer!===\")\n",
    "word = input(\"Enter Word:\")\n",
    "\n",
    "def alphabet_soup(word):\n",
    "    alphabets = list(word.strip())\n",
    "    alphabets.sort(key = str.lower)\n",
    "    print(\"\\nResult\\n\" + \"\".join(alphabets))\n",
    "    \n",
    "alphabet_soup(word)"
   ]
  },
  {
   "cell_type": "code",
   "execution_count": 53,
   "id": "fcfd0b43-9ea9-4857-81d5-70c9187406b9",
   "metadata": {
    "tags": []
   },
   "outputs": [
    {
     "name": "stdout",
     "output_type": "stream",
     "text": [
      "=== Welcome to Emotify! ===\n"
     ]
    },
    {
     "name": "stdin",
     "output_type": "stream",
     "text": [
      "Type a message...\n",
      " smile smile smile ka nga, tas grin ka, bc you're sad and you're mad\n"
     ]
    },
    {
     "name": "stdout",
     "output_type": "stream",
     "text": [
      "\n",
      "You typed:\n",
      ":) :) :) ka nga, tas :D ka, bc you're :(( and you're >:(\n"
     ]
    }
   ],
   "source": [
    "print(\"=== Welcome to Emotify! ===\")\n",
    "sentence = input(\"Type a message...\\n\")\n",
    "\n",
    "def emotify(sentence):\n",
    "    words = list(sentence.split())\n",
    "    \n",
    "    for i in range(len(words)):\n",
    "        if words[i] == 'smile':\n",
    "            words[i] = ':)'\n",
    "        if words[i] == 'grin':\n",
    "            words[i] = ':D'\n",
    "        if words[i] == 'sad':\n",
    "            words[i] = ':(('\n",
    "        if words[i] == 'mad':\n",
    "            words[i] = '>:('\n",
    "            \n",
    "    print(\"\\nYou typed:\\n\" + \" \".join(words))\n",
    "    \n",
    "emotify(sentence)"
   ]
  },
  {
   "cell_type": "code",
   "execution_count": 2,
   "id": "81b32112-f4b2-4cbf-a4c7-134d0755dcc9",
   "metadata": {
    "tags": []
   },
   "outputs": [
    {
     "name": "stdout",
     "output_type": "stream",
     "text": [
      "=== Welcome to Emotify! ===\n",
      "Type a message...\n",
      "smile ka nga, grin cuz you're mad\n",
      "\n",
      "You typed:\n",
      ":) ka nga, :D cuz you're >:(\n"
     ]
    }
   ],
   "source": [
    "print(\"=== Welcome to Emotify! ===\")\n",
    "sentence = input(\"Type a message...\\n\")\n",
    "\n",
    "def emotify(sentence):\n",
    "    words = list(sentence.split())\n",
    "    emojis = {'smile':':)', 'grin':':D', 'sad': ':((', 'mad':'>:('}\n",
    "    \n",
    "    for i, x in enumerate(words):\n",
    "        if x in emojis:\n",
    "            words[i] = emojis[x]\n",
    "            \n",
    "    print(\"\\nYou typed:\\n\" + \" \".join(words))\n",
    "    \n",
    "emotify(sentence)"
   ]
  },
  {
   "cell_type": "code",
   "execution_count": 9,
   "id": "e2b1847e-b5cf-4cde-a549-f298e94a44de",
   "metadata": {},
   "outputs": [
    {
     "name": "stdout",
     "output_type": "stream",
     "text": [
      "First: 1\n",
      "Middle: 3\n",
      "Last: 6\n"
     ]
    }
   ],
   "source": [
    "lst = [1, 2, 3, 4, 5, 6]\n",
    "print(\"First: \" + str(lst[0]))\n",
    "\n",
    "mid = (len(lst) - 1)/2\n",
    "if mid !=0:\n",
    "    mid -= 0.5\n",
    "else:\n",
    "    mid -= 1\n",
    "    \n",
    "print(\"Middle: \" + str(lst[int(mid)]))\n",
    "print(\"Last: \" + str(lst[-1]))"
   ]
  },
  {
   "cell_type": "code",
   "execution_count": 4,
   "id": "b1b33dcb-cd58-4292-9df0-e41e93c5ed88",
   "metadata": {},
   "outputs": [
    {
     "name": "stdout",
     "output_type": "stream",
     "text": [
      "First: 1\n",
      "Middle: [2, 3, 4, 5]\n",
      "Last: 6\n"
     ]
    }
   ],
   "source": [
    "writeyourcodehere = [1, 2, 3, 4, 5, 6]\n",
    "print(\"First: \" + str(writeyourcodehere[0]))   \n",
    "print(\"Middle: \" + str(writeyourcodehere[1:int(len(writeyourcodehere)-1)]))\n",
    "print(\"Last: \" + str(writeyourcodehere[-1]))"
   ]
  },
  {
   "cell_type": "code",
   "execution_count": null,
   "id": "375da4e4-e2a7-44a3-b0e4-41115e40fad1",
   "metadata": {},
   "outputs": [],
   "source": []
  }
 ],
 "metadata": {
  "kernelspec": {
   "display_name": "Python 3 (ipykernel)",
   "language": "python",
   "name": "python3"
  },
  "language_info": {
   "codemirror_mode": {
    "name": "ipython",
    "version": 3
   },
   "file_extension": ".py",
   "mimetype": "text/x-python",
   "name": "python",
   "nbconvert_exporter": "python",
   "pygments_lexer": "ipython3",
   "version": "3.11.4"
  }
 },
 "nbformat": 4,
 "nbformat_minor": 5
}
