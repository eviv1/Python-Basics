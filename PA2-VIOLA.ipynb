{
 "cells": [
  {
   "cell_type": "code",
   "execution_count": 24,
   "id": "4deda9ce",
   "metadata": {},
   "outputs": [
    {
     "name": "stdout",
     "output_type": "stream",
     "text": [
      "These are the perfect squares from 1 to 100^2:\n",
      "[[  1   2   3   4   5   6   7   8   9  10]\n",
      " [ 11  12  13  14  15  16  17  18  19  20]\n",
      " [ 21  22  23  24  25  26  27  28  29  30]\n",
      " [ 31  32  33  34  35  36  37  38  39  40]\n",
      " [ 41  42  43  44  45  46  47  48  49  50]\n",
      " [ 51  52  53  54  55  56  57  58  59  60]\n",
      " [ 61  62  63  64  65  66  67  68  69  70]\n",
      " [ 71  72  73  74  75  76  77  78  79  80]\n",
      " [ 81  82  83  84  85  86  87  88  89  90]\n",
      " [ 91  92  93  94  95  96  97  98  99 100]]\n",
      "\n",
      "The numbers divisible by 3 amongst the perfect squares are:\n"
     ]
    },
    {
     "data": {
      "text/plain": [
       "array([   9,   36,   81,  144,  225,  324,  441,  576,  729,  900, 1089,\n",
       "       1296, 1521, 1764, 2025, 2304, 2601, 2916, 3249, 3600, 3969, 4356,\n",
       "       4761, 5184, 5625, 6084, 6561, 7056, 7569, 8100, 8649, 9216, 9801])"
      ]
     },
     "execution_count": 24,
     "metadata": {},
     "output_type": "execute_result"
    }
   ],
   "source": [
    "import numpy as np\n",
    "\n",
    "array = np.arange(1, 101).reshape(10,10) #a matrix from 1-100\n",
    "print(\"These are the perfect squares from 1 to 100^2:\")\n",
    "X = pow(array,2) #square of the matrix\n",
    "print(array)\n",
    "\n",
    "div_3 = X[X%3==0] #list of all divisible by 3\n",
    "\n",
    "np.save(\"div_by_3.npy\", div_3)\n",
    "\n",
    "print(\"\\nThe numbers divisible by 3 amongst the perfect squares are:\")\n",
    "np.load(\"div_by_3.npy\")"
   ]
  },
  {
   "cell_type": "code",
   "execution_count": 22,
   "id": "b4a43bd6-eba7-437c-9515-d21f0b1630cb",
   "metadata": {
    "tags": []
   },
   "outputs": [
    {
     "name": "stdout",
     "output_type": "stream",
     "text": [
      "The random matrix we got is:\n",
      "[[0.00100775 0.41979214 0.0604306  0.49237928 0.09166373]\n",
      " [0.75343905 0.56287945 0.27533765 0.46775839 0.55665284]\n",
      " [0.96416043 0.46312744 0.75535352 0.50526821 0.83573865]\n",
      " [0.85415169 0.56114915 0.61891658 0.11490497 0.99161977]\n",
      " [0.34113638 0.93686007 0.36803513 0.87666027 0.23481609]]\n",
      "\n",
      "The normalized matrix:\n"
     ]
    },
    {
     "data": {
      "text/plain": [
       "array([[-1.80599962, -0.36020932, -1.60085115, -0.10961312, -1.49302343],\n",
       "       [ 0.79165658,  0.13377814, -0.85891678, -0.19461304,  0.1122817 ],\n",
       "       [ 1.51914055, -0.21060069,  0.79826602, -0.065116  ,  1.07578362],\n",
       "       [ 1.13935189,  0.12780456,  0.32723796, -1.41278657,  1.61393979],\n",
       "       [-0.63175654,  1.42489014, -0.53889265,  1.21705936, -0.99881141]])"
      ]
     },
     "execution_count": 22,
     "metadata": {},
     "output_type": "execute_result"
    }
   ],
   "source": [
    "import numpy as np\n",
    "\n",
    "print(\"The random matrix we got is:\")\n",
    "X = np.random.random((5,5)) #random matrix\n",
    "print(X)\n",
    "\n",
    "#Since Z=(X-u)/SD\n",
    "u = X.mean() #mean\n",
    "SD = np.std(X) #standard deviation\n",
    "\n",
    "print(\"\\nThe normalized matrix:\")\n",
    "X_normalize = (X-u)/SD #normalized matrix\n",
    "\n",
    "np.save(\"X_normalized.npy\", X_normalize)\n",
    "np.load(\"X_normalized.npy\")"
   ]
  }
 ],
 "metadata": {
  "kernelspec": {
   "display_name": "Python 3 (ipykernel)",
   "language": "python",
   "name": "python3"
  },
  "language_info": {
   "codemirror_mode": {
    "name": "ipython",
    "version": 3
   },
   "file_extension": ".py",
   "mimetype": "text/x-python",
   "name": "python",
   "nbconvert_exporter": "python",
   "pygments_lexer": "ipython3",
   "version": "3.11.4"
  }
 },
 "nbformat": 4,
 "nbformat_minor": 5
}
